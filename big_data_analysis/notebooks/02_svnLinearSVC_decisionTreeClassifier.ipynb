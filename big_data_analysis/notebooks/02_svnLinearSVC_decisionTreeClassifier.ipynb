{
 "cells": [
  {
   "cell_type": "code",
   "execution_count": 149,
   "id": "9e30c506",
   "metadata": {},
   "outputs": [],
   "source": [
    "from pyspark.sql import SparkSession\n",
    "\n",
    "spark = SparkSession.builder.appName(\"EcommerceClassifier\").getOrCreate()\n",
    "spark.sparkContext.setLogLevel(\"ERROR\")   \n",
    "\n",
    "data_path = \"/Users/kk/Desktop/001/BigDataAnalysis/big_data_analysis/data/ecommerce_data.csv\"\n"
   ]
  },
  {
   "cell_type": "code",
   "execution_count": 150,
   "id": "a4b3a002",
   "metadata": {},
   "outputs": [
    {
     "name": "stdout",
     "output_type": "stream",
     "text": [
      "+---------+---------+--------------------+--------+--------------+---------+----------+--------------+\n",
      "|InvoiceNo|StockCode|         Description|Quantity|   InvoiceDate|UnitPrice|CustomerID|       Country|\n",
      "+---------+---------+--------------------+--------+--------------+---------+----------+--------------+\n",
      "|   536365|   85123A|WHITE HANGING HEA...|       6|12/1/2010 8:26|     2.55|     17850|United Kingdom|\n",
      "|   536365|    71053| WHITE METAL LANTERN|       6|12/1/2010 8:26|     3.39|     17850|United Kingdom|\n",
      "|   536365|   84406B|CREAM CUPID HEART...|       8|12/1/2010 8:26|     2.75|     17850|United Kingdom|\n",
      "|   536365|   84029G|KNITTED UNION FLA...|       6|12/1/2010 8:26|     3.39|     17850|United Kingdom|\n",
      "|   536365|   84029E|RED WOOLLY HOTTIE...|       6|12/1/2010 8:26|     3.39|     17850|United Kingdom|\n",
      "+---------+---------+--------------------+--------+--------------+---------+----------+--------------+\n",
      "only showing top 5 rows\n",
      "\n",
      "root\n",
      " |-- InvoiceNo: string (nullable = true)\n",
      " |-- StockCode: string (nullable = true)\n",
      " |-- Description: string (nullable = true)\n",
      " |-- Quantity: integer (nullable = true)\n",
      " |-- InvoiceDate: string (nullable = true)\n",
      " |-- UnitPrice: double (nullable = true)\n",
      " |-- CustomerID: integer (nullable = true)\n",
      " |-- Country: string (nullable = true)\n",
      "\n"
     ]
    }
   ],
   "source": [
    "\n",
    "df = spark.read.csv(data_path, header=True, inferSchema=True)\n",
    "df.show(5)\n",
    "df.printSchema()\n"
   ]
  },
  {
   "cell_type": "code",
   "execution_count": 151,
   "id": "366db33c",
   "metadata": {},
   "outputs": [
    {
     "name": "stdout",
     "output_type": "stream",
     "text": [
      "Auto selected label column: Country\n"
     ]
    }
   ],
   "source": [
    "# 选择标签列：优先选类别型且唯一值少的字段\n",
    "# Select TAB Column: Prioritize categorical fields with fewer unique values\n",
    "from pyspark.sql.types import StringType\n",
    "cat_cols = [f.name for f in df.schema.fields if isinstance(f.dataType, StringType)]\n",
    "label_col = None\n",
    "\n",
    "for c in cat_cols:\n",
    "    uniq = df.select(c).distinct().count()\n",
    "    if 2 <= uniq <= 10:  \n",
    "        label_col = c\n",
    "        break\n",
    "if label_col is None:\n",
    "    label_col = df.columns[-1]  \n",
    "print(f\"Auto selected label column: {label_col}\")\n"
   ]
  },
  {
   "cell_type": "code",
   "execution_count": 152,
   "id": "fb2add94",
   "metadata": {},
   "outputs": [
    {
     "name": "stdout",
     "output_type": "stream",
     "text": [
      "Label column name: Country\n",
      "Cleaned feature columns: ['Quantity', 'UnitPrice', 'CustomerID']\n"
     ]
    }
   ],
   "source": [
    "# Set the label column (标签列)\n",
    "label_col = \"Country\"\n",
    "\n",
    "# Exclude only truly useless or high-cardinality columns\n",
    "# 只排除完全无用或基数极高的列，保留有信息量的特征\n",
    "high_card_cols = [\"InvoiceNo\", \"StockCode\", \"Description\", \"InvoiceDate\"]\n",
    "\n",
    "feature_cols = [c for c in df.columns if c != label_col and c not in high_card_cols]\n",
    "\n",
    "print(\"Label column name:\", label_col)\n",
    "print(\"Cleaned feature columns:\", feature_cols)\n"
   ]
  },
  {
   "cell_type": "code",
   "execution_count": 153,
   "id": "56a90b79",
   "metadata": {},
   "outputs": [
    {
     "name": "stdout",
     "output_type": "stream",
     "text": [
      "+---------------------------------------------+-----+\n",
      "|features                                     |label|\n",
      "+---------------------------------------------+-----+\n",
      "|[6.0,2.55,15.299999999999999,0.0,0.0,0.0,1.0]|0.0  |\n",
      "|[6.0,3.39,20.34,0.0,0.0,0.0,1.0]             |0.0  |\n",
      "|[8.0,2.75,22.0,0.0,0.0,0.0,1.0]              |0.0  |\n",
      "|[6.0,3.39,20.34,0.0,0.0,0.0,1.0]             |0.0  |\n",
      "|[6.0,3.39,20.34,0.0,0.0,0.0,1.0]             |0.0  |\n",
      "+---------------------------------------------+-----+\n",
      "only showing top 5 rows\n",
      "\n"
     ]
    }
   ],
   "source": [
    "from pyspark.ml.feature import StringIndexer, VectorAssembler\n",
    "from pyspark.ml import Pipeline\n",
    "from pyspark.sql.functions import col, month, dayofweek, hour, when\n",
    "\n",
    "# 1. 新增衍生特征\n",
    "# 1. Add derived features\n",
    "df = df.withColumn(\"OrderAmount\", col(\"Quantity\") * col(\"UnitPrice\"))\n",
    "df = df.withColumn(\"month\", month(\"InvoiceDate\"))\n",
    "df = df.withColumn(\"dayofweek\", dayofweek(\"InvoiceDate\"))\n",
    "df = df.withColumn(\"hour\", hour(\"InvoiceDate\"))\n",
    "df = df.withColumn(\n",
    "    \"quantity_bin\",\n",
    "    when(df.Quantity < 5, 0).when(df.Quantity < 20, 1).otherwise(2)\n",
    ")\n",
    "\n",
    "# 2. 明确所有用于建模的特征列（\n",
    "# 2. Specify all feature columns for modeling\n",
    "feature_cols = [\n",
    "    \"Quantity\",           # 购买数量 / Quantity purchased\n",
    "    \"UnitPrice\",          # 单价 / Unit price\n",
    "    \"OrderAmount\",        # 订单金额 / Order amount\n",
    "    \"month\",              # 月份 / Month\n",
    "    \"dayofweek\",          # 星期几 / Day of week\n",
    "    \"hour\",               # 小时 / Hour\n",
    "    \"quantity_bin\"        # 数量分箱 / Quantity bin\n",
    "    # 如果你想加商品类别: \"StockCode\"  # Add StockCode if needed (StringIndexer required)\n",
    "]\n",
    "\n",
    "# 3. 标签列名\n",
    "# 3. Label column name\n",
    "label_col = \"Country\"\n",
    "\n",
    "# 4. 所有数值特征转为 double 类型\n",
    "# 4. Cast all numeric features to double type\n",
    "for c in feature_cols:\n",
    "    df = df.withColumn(c, df[c].cast(\"double\"))\n",
    "\n",
    "# 5. 填补缺失值\n",
    "# 5. Fill missing values with 0 to avoid null issues\n",
    "df = df.fillna(0, subset=feature_cols)\n",
    "\n",
    "# 6. 找出所有类别（字符串）型特征列\n",
    "# 6. Find all categorical (string type) feature columns\n",
    "cat_cols = [c for c in feature_cols if dict(df.dtypes)[c] == \"string\"]\n",
    "\n",
    "# 7. 对所有类别特征编码（非标签）\n",
    "# 7. Encode all categorical features (except label)\n",
    "indexers = [\n",
    "    StringIndexer(inputCol=c, outputCol=c+\"_idx\", handleInvalid=\"keep\")\n",
    "    for c in cat_cols\n",
    "]\n",
    "\n",
    "# 8. 标签编码\n",
    "# 8. Encode the label column\n",
    "label_indexer = StringIndexer(inputCol=label_col, outputCol=\"label\", handleInvalid=\"keep\")\n",
    "\n",
    "# 9. 汇总特征列（数值型+已编码的类别型）\n",
    "# 9. Gather all features (numeric + encoded categorical)\n",
    "indexed_feature_cols = [\n",
    "    c+\"_idx\" if c in cat_cols else c\n",
    "    for c in feature_cols\n",
    "]\n",
    "\n",
    "# 10. 构建特征向量\n",
    "# 10. Build feature vector\n",
    "assembler = VectorAssembler(inputCols=indexed_feature_cols, outputCol=\"features\")\n",
    "\n",
    "# 11. 建立处理流水线\n",
    "# 11. Build the processing pipeline\n",
    "pipeline = Pipeline(stages=indexers + [label_indexer, assembler])\n",
    "data_prep = pipeline.fit(df).transform(df)\n",
    "\n",
    "# 12. 检查特征输出，多维为正常现象\n",
    "# 12. Check feature output; multi-dimensional vector is expected\n",
    "data_prep.select(\"features\", \"label\").show(5, truncate=False)\n"
   ]
  },
  {
   "cell_type": "code",
   "execution_count": 154,
   "id": "eb52b66c",
   "metadata": {},
   "outputs": [
    {
     "name": "stdout",
     "output_type": "stream",
     "text": [
      "+-----+-----+\n",
      "|label|count|\n",
      "+-----+-----+\n",
      "|  1.0| 9495|\n",
      "|  2.0| 8557|\n",
      "|  3.0| 8196|\n",
      "|  0.0| 8083|\n",
      "|  4.0| 2533|\n",
      "|  5.0| 2371|\n",
      "|  6.0| 2069|\n",
      "|  7.0| 2002|\n",
      "|  8.0| 1519|\n",
      "|  9.0| 1259|\n",
      "| 10.0| 1086|\n",
      "| 11.0|  803|\n",
      "| 12.0|  758|\n",
      "| 13.0|  695|\n",
      "| 14.0|  622|\n",
      "| 15.0|  462|\n",
      "| 16.0|  446|\n",
      "| 17.0|  401|\n",
      "| 18.0|  389|\n",
      "| 19.0|  358|\n",
      "+-----+-----+\n",
      "only showing top 20 rows\n",
      "\n"
     ]
    }
   ],
   "source": [
    "# 1. 计算0类需要采样的比例\n",
    "# 1. Calculate the sampling ratio for class 0\n",
    "total_0 = data_prep.filter(data_prep[\"label\"] == 0.0).count()\n",
    "keep_frac = 8000 / total_0   \n",
    "# The sampling fraction for class 0 to keep about 8000 samples\n",
    "\n",
    "# 2. 构建采样比例字典\n",
    "# 2. Build the sampling fractions dictionary\n",
    "all_labels = [row['label'] for row in data_prep.select(\"label\").distinct().collect()]\n",
    "fractions = {float(l): 1.0 for l in all_labels}  \n",
    "# Keep all other classes\n",
    "fractions[0.0] = keep_frac  \n",
    "# Only sample a portion of class 0\n",
    "\n",
    "# 3. 采样\n",
    "# 3. Sample the data\n",
    "data_sampled = data_prep.sampleBy(\"label\", fractions, seed=42)\n",
    "\n",
    "# 4. 检查采样结果\n",
    "# 4. Check the sampling result\n",
    "data_sampled.groupBy(\"label\").count().orderBy(\"count\", ascending=False).show()\n",
    "\n",
    "\n",
    "\n",
    "train_df, test_df = data_prep.randomSplit([0.7, 0.3], seed=42)\n"
   ]
  },
  {
   "cell_type": "code",
   "execution_count": 155,
   "id": "56279f79",
   "metadata": {},
   "outputs": [],
   "source": [
    "from pyspark.ml.classification import DecisionTreeClassifier\n",
    "\n",
    "dt = DecisionTreeClassifier(\n",
    "    labelCol=\"label\",\n",
    "    featuresCol=\"features\",\n",
    "    maxDepth=5,\n",
    "    maxBins=4500   \n",
    ")\n",
    "dt_model = dt.fit(train_df)\n",
    "dt_pred = dt_model.transform(test_df)\n",
    "\n",
    "\n"
   ]
  },
  {
   "cell_type": "code",
   "execution_count": 156,
   "id": "9755cf85",
   "metadata": {},
   "outputs": [
    {
     "name": "stdout",
     "output_type": "stream",
     "text": [
      "Decision Tree Test Accuracy =  0.9142749640704897\n"
     ]
    }
   ],
   "source": [
    "\n",
    "from pyspark.ml.classification import DecisionTreeClassifier\n",
    "from pyspark.ml.evaluation import MulticlassClassificationEvaluator\n",
    "\n",
    "# 1. 实例化决策树模型\n",
    "# 1. Instantiate the decision tree model\n",
    "dt = DecisionTreeClassifier(\n",
    "    labelCol=\"label\",           \n",
    "    featuresCol=\"features\",    \n",
    "    maxDepth=5,                 \n",
    "    maxBins=4500                 \n",
    ")\n",
    "\n",
    "# 2. 模型训练\n",
    "# 2. Model Training\n",
    "dt_model = dt.fit(train_df)\n",
    "\n",
    "# 3. 模型预测\n",
    "# 3. Model Prediction\n",
    "dt_pred = dt_model.transform(test_df)\n",
    "\n",
    "# 4. 模型评估（准确率）\n",
    "# 4. Model Evaluation (Accuracy)\n",
    "evaluator = MulticlassClassificationEvaluator(\n",
    "    labelCol=\"label\",\n",
    "    predictionCol=\"prediction\",\n",
    "    metricName=\"accuracy\"\n",
    ")\n",
    "dt_accuracy = evaluator.evaluate(dt_pred)\n",
    "print(\"Decision Tree Test Accuracy = \", dt_accuracy)\n"
   ]
  },
  {
   "cell_type": "code",
   "execution_count": 157,
   "id": "1e00d9df",
   "metadata": {},
   "outputs": [
    {
     "name": "stdout",
     "output_type": "stream",
     "text": [
      "SVM skipped: label has 38 classes (must be exactly 2 for LinearSVC)\n"
     ]
    }
   ],
   "source": [
    "# 检查标签唯一值数量\n",
    "# Check the number of unique values for labels\n",
    "num_classes = train_df.select('label').distinct().count()\n",
    "\n",
    "if num_classes == 2:\n",
    "    try:\n",
    "        svm = LinearSVC(labelCol=\"label\", featuresCol=\"features\", maxIter=20, regParam=0.1)\n",
    "        svm_model = svm.fit(train_df)\n",
    "        svm_pred = svm_model.transform(test_df)\n",
    "        has_svm = True\n",
    "    except Exception as e:\n",
    "        print(\"SVM error:\", e)\n",
    "        has_svm = False\n",
    "else:\n",
    "    print(f\"SVM skipped: label has {num_classes} classes (must be exactly 2 for LinearSVC)\")\n",
    "    has_svm = False\n"
   ]
  },
  {
   "cell_type": "code",
   "execution_count": 158,
   "id": "df668af8",
   "metadata": {},
   "outputs": [
    {
     "name": "stdout",
     "output_type": "stream",
     "text": [
      "Decision Tree Test Accuracy: 91.43%\n",
      "+-----+----------+------+\n",
      "|label|prediction| count|\n",
      "+-----+----------+------+\n",
      "|  2.0|       0.0|  2614|\n",
      "| 36.0|       0.0|    11|\n",
      "| 14.0|       0.0|   208|\n",
      "| 19.0|       0.0|   117|\n",
      "| 10.0|       0.0|   324|\n",
      "| 21.0|       0.0|    84|\n",
      "| 13.0|       0.0|   183|\n",
      "|  8.0|       0.0|   465|\n",
      "|  9.0|       0.0|   344|\n",
      "| 20.0|       0.0|    95|\n",
      "|  1.0|       0.0|  2741|\n",
      "| 15.0|       0.0|   133|\n",
      "| 17.0|       0.0|   129|\n",
      "| 12.0|       0.0|   233|\n",
      "| 33.0|       0.0|    13|\n",
      "| 11.0|       0.0|   241|\n",
      "|  7.0|       0.0|   622|\n",
      "|  0.0|       0.0|148225|\n",
      "| 18.0|       0.0|   138|\n",
      "|  4.0|       0.0|   744|\n",
      "+-----+----------+------+\n",
      "only showing top 20 rows\n",
      "\n"
     ]
    }
   ],
   "source": [
    "from pyspark.ml.evaluation import MulticlassClassificationEvaluator, BinaryClassificationEvaluator\n",
    "\n",
    "# 决策树准确率\n",
    "# Decision Tree Accuracy\n",
    "evaluator = MulticlassClassificationEvaluator(labelCol=\"label\", predictionCol=\"prediction\", metricName=\"accuracy\")\n",
    "dt_acc = evaluator.evaluate(dt_pred)\n",
    "print(\"Decision Tree Test Accuracy: {:.2f}%\".format(dt_acc * 100))\n",
    "\n",
    "# 决策树混淆矩阵\n",
    "# Decision Tree Confusion Matrix\n",
    "dt_pred.groupBy(\"label\", \"prediction\").count().show()\n",
    "\n",
    "# SVM\n",
    "if has_svm:\n",
    "    bin_evaluator = BinaryClassificationEvaluator(labelCol=\"label\", rawPredictionCol=\"rawPrediction\", metricName=\"areaUnderROC\")\n",
    "    svm_auc = bin_evaluator.evaluate(svm_pred)\n",
    "    svm_acc = evaluator.evaluate(svm_pred)\n",
    "    print(\"SVM (LinearSVC) Test Accuracy: {:.2f}%\".format(svm_acc * 100))\n",
    "    print(\"SVM (LinearSVC) AUC: {:.2f}\".format(svm_auc))\n",
    "    svm_pred.groupBy(\"label\", \"prediction\").count().show()\n"
   ]
  },
  {
   "cell_type": "code",
   "execution_count": 159,
   "id": "3b114589",
   "metadata": {},
   "outputs": [
    {
     "name": "stdout",
     "output_type": "stream",
     "text": [
      "+---------------+------------------+------------------+\n",
      "|        Country|    avg(UnitPrice)|     avg(Quantity)|\n",
      "+---------------+------------------+------------------+\n",
      "|         Sweden|3.9108874458874454| 77.13636363636364|\n",
      "|        Germany|3.9669299631384787|12.369457609268036|\n",
      "|         France| 5.028864087881273| 12.91106696272058|\n",
      "|        Belgium| 3.644335427742873| 11.18994683421943|\n",
      "|        Finland| 5.448705035971222|15.346762589928058|\n",
      "|          Italy| 4.831120797011208| 9.961394769613948|\n",
      "|           EIRE|  5.91107735480721| 17.40324548560273|\n",
      "|      Lithuania|2.8411428571428576| 18.62857142857143|\n",
      "|         Norway| 6.012025782688767|17.722836095764272|\n",
      "|          Spain| 4.987544413738653| 10.58981444926964|\n",
      "|        Denmark| 3.256940874035989| 21.04884318766067|\n",
      "|        Iceland|2.6440109890109897|13.505494505494505|\n",
      "|         Israel|3.6331313131313143|14.656565656565656|\n",
      "|Channel Islands| 4.932124010554092|12.505277044854882|\n",
      "|         Cyprus| 6.302363344051452|10.155948553054662|\n",
      "|    Switzerland| 3.403441558441562|15.147352647352648|\n",
      "|          Japan|2.2761452513966476| 70.44134078212291|\n",
      "|         Poland| 4.170879765395893|10.712609970674487|\n",
      "|       Portugal| 8.582975641869645| 10.65174456879526|\n",
      "|      Australia| 3.220611596505161|  66.4440031771247|\n",
      "+---------------+------------------+------------------+\n",
      "only showing top 20 rows\n",
      "\n",
      "+---------------+------+\n",
      "|        Country| count|\n",
      "+---------------+------+\n",
      "| United Kingdom|495478|\n",
      "|        Germany|  9495|\n",
      "|         France|  8557|\n",
      "|           EIRE|  8196|\n",
      "|          Spain|  2533|\n",
      "|    Netherlands|  2371|\n",
      "|        Belgium|  2069|\n",
      "|    Switzerland|  2002|\n",
      "|       Portugal|  1519|\n",
      "|      Australia|  1259|\n",
      "|         Norway|  1086|\n",
      "|          Italy|   803|\n",
      "|Channel Islands|   758|\n",
      "|        Finland|   695|\n",
      "|         Cyprus|   622|\n",
      "|         Sweden|   462|\n",
      "|    Unspecified|   446|\n",
      "|        Austria|   401|\n",
      "|        Denmark|   389|\n",
      "|          Japan|   358|\n",
      "+---------------+------+\n",
      "only showing top 20 rows\n",
      "\n"
     ]
    },
    {
     "data": {
      "image/png": "[encoded data removed]",
      "text/plain": [
       "<Figure size 1850x1850 with 2 Axes>"
      ]
     },
     "metadata": {},
     "output_type": "display_data"
    }
   ],
   "source": [
    "import seaborn as sns\n",
    "\n",
    "df.groupBy(\"Country\").agg({\"Quantity\": \"mean\", \"UnitPrice\": \"mean\"}).show()\n",
    "df.groupBy(\"Country\").count().orderBy(\"count\", ascending=False).show()\n",
    "\n",
    "\n",
    "\n",
    "\n",
    "plt.figure(figsize=(max(6, num_labels * 0.5), max(5, num_labels * 0.5)))\n",
    "sns.heatmap(pivot_dt, annot=False, fmt=\"g\", cmap=\"Blues\")  # annot=True \n",
    "plt.title('Decision Tree Confusion Matrix', fontsize=16)\n",
    "plt.xlabel('Predicted', fontsize=14)\n",
    "plt.ylabel('Actual', fontsize=14)\n",
    "plt.tight_layout()\n",
    "plt.show()\n"
   ]
  }
 ],
 "metadata": {
  "kernelspec": {
   "display_name": "Python 3",
   "language": "python",
   "name": "python3"
  },
  "language_info": {
   "codemirror_mode": {
    "name": "ipython",
    "version": 3
   },
   "file_extension": ".py",
   "mimetype": "text/x-python",
   "name": "python",
   "nbconvert_exporter": "python",
   "pygments_lexer": "ipython3",
   "version": "3.9.6"
  }
 },
 "nbformat": 4,
 "nbformat_minor": 5
}
